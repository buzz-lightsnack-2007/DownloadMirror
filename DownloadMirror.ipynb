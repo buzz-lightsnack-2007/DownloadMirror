{
  "cells": [
    {
      "cell_type": "markdown",
      "metadata": {
        "id": "view-in-github",
        "colab_type": "text"
      },
      "source": [
        "<a href=\"https://colab.research.google.com/github/buzz-lightsnack-2007/DownloadMirror/blob/development/DownloadMirror.ipynb\" target=\"_parent\"><img src=\"https://colab.research.google.com/assets/colab-badge.svg\" alt=\"Open In Colab\"/></a>"
      ]
    },
    {
      "cell_type": "markdown",
      "metadata": {
        "id": "4lDFbXDu8Zgz"
      },
      "source": [
        "# DownloadMirror\n",
        "Download any file from the web, just using Google CoLab's servers. "
      ]
    },
    {
      "cell_type": "code",
      "execution_count": null,
      "metadata": {
        "cellView": "form",
        "id": "SMoyZ3wpJC78"
      },
      "outputs": [],
      "source": [
        "#@title ## Download\n",
        "import os\n",
        "\n",
        "# App Information\n",
        "class app:\n",
        "  name = \"DownloadMirror\"\n",
        "  version = 0.1\n",
        "\n",
        "# Download Information\n",
        "class download: \n",
        "  URL = '' #@param {type:\"string\"}\n",
        "  URL = URL.strip()\n",
        "  fileName = '' #@param {type:\"string\"}\n",
        "  fileName = fileName.strip()\n",
        "  #@markdown ### Configuration\n",
        "  class config:\n",
        "    auto_local_download = 1 #@param {type:\"slider\", min:0, max:1, step:1}\n",
        "    duplicate_management = \"Rename\" #@param [\"Rename\", \"Replace\"]\n",
        "\n",
        "# Screen colors. \n",
        "class formatting:\n",
        "  clear = '\\033[0m'\n",
        "  class color: \n",
        "    purple = '\\033[95m'\n",
        "    cyan = '\\033[96m'\n",
        "    cyan_dark = '\\033[36m'\n",
        "    blue = '\\033[94m'\n",
        "    green = '\\033[92m'\n",
        "    yellow = '\\033[93m'\n",
        "    red = '\\033[91m'\n",
        "  class font:\n",
        "    bold = '\\033[1m'\n",
        "    underline = '\\033[4m'\n",
        "\n",
        "class info: # screen messages\n",
        "  def status(message):\n",
        "    print(formatting.font.bold + 'Status: \\t' + formatting.clear + message)\n",
        "  def err(message):\n",
        "    print(formatting.font.bold + formatting.color.red + 'Error: \\t' + formatting.clear + formatting.clear + message)\n",
        "  def warning(message):\n",
        "    print(formatting.font.bold + formatting.color.yellow + 'Warning: \\t' + formatting.clear + formatting.clear + message)\n",
        "  def resolving(message):\n",
        "    print(formatting.font.bold + formatting.color.yellow + 'Resolving: \\t' + formatting.clear + formatting.clear + message)\n",
        "  def success(message):\n",
        "    print(formatting.font.bold + formatting.color.green + 'Success: \\t' + formatting.clear + formatting.clear + message)\n",
        "\n",
        "def check_compatibility():\n",
        "  # Make sure that the user is only using Google CoLab to run this script. \n",
        "  try: \n",
        "    from google.colab import files\n",
        "  except ReferenceError: \n",
        "    info.err(formatting.font.bold + 'This script is only intended for Google CoLab. ' + formatting.clear + 'Please upload run this copy in the said service. ')\n",
        "    os.kill(os.getpid(), 1)\n",
        "\n",
        "def cleanup(): \n",
        "  # Try to remove useless files. \n",
        "  os.system('rm -rf sample_data -v')\n",
        "\n",
        "def start_download():\n",
        "  # Inform user about file management in the sidebar. \n",
        "  if not download.config.auto_local_download:\n",
        "    print('Downloaded files are available via the sidebar. \\n\\n')\n",
        "  \n",
        "  def go_download():\n",
        "    # Download the file. \n",
        "    if download.fileName.strip() != None: \n",
        "      if os.system('cat /content/' + str(download.fileName)) <= 0 and download.config.duplicate_management == 'Rename':\n",
        "        os.system('rm -rf /content/' + str(download.fileName) + '.old -v')\n",
        "        os.system('mv -v /content/' + str(download.fileName) + ' /content/' + str(download.fileName) + '.old')\n",
        "      elif os.system('cat /content/' + str(download.fileName)) <= 0 and download.config.duplicate_management == 'Replace':\n",
        "        os.system('rm -rf /content/' + str(download.fileName) + ' -v')\n",
        "      !curl '{download.URL}' -o '{download.fileName}'\n",
        "    else:\n",
        "      !curl -O '{download.URL}'\n",
        "  \n",
        "  go_download()\n",
        "\n",
        "def save_locally():\n",
        "  # If user enabled automatic local downloading, download the file now. \n",
        "  if download.config.auto_local_download:\n",
        "    from google.colab import files\n",
        "    files.download('/content/' + str(download.fileName))\n",
        "\n",
        "def main(): \n",
        "  check_compatibility()\n",
        "  cleanup()\n",
        "  if download.URL.strip() != None and download.URL.strip() != '':\n",
        "    start_download()\n",
        "    save_locally()\n",
        "\n",
        "main()"
      ]
    },
    {
      "cell_type": "markdown",
      "metadata": {
        "id": "PLJaicCgwlKS"
      },
      "source": [
        "## Utilities"
      ]
    },
    {
      "cell_type": "code",
      "execution_count": null,
      "metadata": {
        "cellView": "form",
        "id": "lM1NsRpIy_kg"
      },
      "outputs": [],
      "source": [
        "#@markdown ### Reset\n",
        "#@markdown To delete all the saved files in this server, including logs, please run this cell. **However, this can not be undone.**\n",
        "\n",
        "import os\n",
        "os.system('rm -rf /content -v && mkdir /content')\n",
        "os.kill(os.getpid(), 1)"
      ]
    }
  ],
  "metadata": {
    "colab": {
      "collapsed_sections": [
        "PLJaicCgwlKS"
      ],
      "name": "DownloadMirror.ipynb",
      "provenance": [],
      "include_colab_link": true
    },
    "kernelspec": {
      "display_name": "Python 3",
      "name": "python3"
    },
    "language_info": {
      "name": "python"
    }
  },
  "nbformat": 4,
  "nbformat_minor": 0
}